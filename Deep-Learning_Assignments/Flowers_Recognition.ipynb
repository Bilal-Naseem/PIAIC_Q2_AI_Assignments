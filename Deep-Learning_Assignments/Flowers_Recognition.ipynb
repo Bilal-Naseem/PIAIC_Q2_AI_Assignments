{
  "nbformat": 4,
  "nbformat_minor": 0,
  "metadata": {
    "colab": {
      "name": "Flowers Recognition.ipynb",
      "provenance": [],
      "collapsed_sections": []
    },
    "kernelspec": {
      "name": "python3",
      "display_name": "Python 3"
    },
    "accelerator": "GPU"
  },
  "cells": [
    {
      "cell_type": "markdown",
      "metadata": {
        "id": "BXgJ6uT1NydQ"
      },
      "source": [
        "Assignment: Flowers Recognition <br>\n",
        "Dataset Description:<br>\n",
        "\n",
        "This dataset contains 4242 images of flowers.<br>\n",
        "The data collection is based on the data flicr, google images, yandex images.<br>\n",
        "You can use this datastet to recognize plants from the photo.<br>\n",
        "\n",
        "Attribute Information:<br>\n",
        "The pictures are divided into five classes: chamomile, tulip, rose, sunflower, dandelion.<br>\n",
        "For each class there are about 800 photos. Photos are not high resolution, about 320x240 pixels. <br>\n",
        "<b>Also explore how to resize images in tensorflow and then resize all the images to a same size. </b> <br>\n",
        "This is a Multiclass Classification Problem.<br>\n",
        "\n",
        "\n"
      ]
    },
    {
      "cell_type": "markdown",
      "metadata": {
        "id": "T7vy-ktuOKJH"
      },
      "source": [
        "WORKFLOW :\n",
        "- Load Data\n",
        "\n",
        "\n",
        "\n",
        "\n",
        "\n"
      ]
    },
    {
      "cell_type": "markdown",
      "metadata": {
        "id": "ri3Bg5qfPRic"
      },
      "source": [
        "Data : <br>\n",
        "https://drive.google.com/file/d/1-OX6wn5gA-bJpjPNfSyaYQLz-A-AB_uj/view?usp=sharing"
      ]
    },
    {
      "cell_type": "code",
      "metadata": {
        "id": "SQIJMcsPq5w-"
      },
      "source": [
        "import os\n",
        "import cv2\n",
        "\n",
        "import numpy as np\n",
        "import pandas as pd"
      ],
      "execution_count": null,
      "outputs": []
    },
    {
      "cell_type": "code",
      "metadata": {
        "colab": {
          "base_uri": "https://localhost:8080/"
        },
        "id": "Wy78n17zXY1y",
        "outputId": "bfd0dd30-b78a-4c3d-aed7-e743820a9904"
      },
      "source": [
        "from google.colab import drive\n",
        "drive.mount('/content/drive')"
      ],
      "execution_count": null,
      "outputs": [
        {
          "output_type": "stream",
          "text": [
            "Drive already mounted at /content/drive; to attempt to forcibly remount, call drive.mount(\"/content/drive\", force_remount=True).\n"
          ],
          "name": "stdout"
        }
      ]
    },
    {
      "cell_type": "code",
      "metadata": {
        "id": "2O0mIGspYC_S"
      },
      "source": [
        "data_location = '/content/drive/MyDrive/Kaggle/FlowerRecognition/flowers'\n",
        "\n",
        "image_names = []\n",
        "labels = []\n",
        "data_images = []\n",
        "size = 28,28\n",
        "\n",
        "for folder in os.listdir(data_location):\n",
        "    for each_file in os.listdir(os.path.join(data_location,folder)):\n",
        "        if each_file.endswith(\"jpg\"):\n",
        "            image_names.append(os.path.join(data_location,folder,each_file))\n",
        "            labels.append(folder)\n",
        "            img = cv2.imread(os.path.join(data_location,folder,each_file))\n",
        "            im = cv2.resize(img,size)\n",
        "            data_images.append(im)\n",
        "        else:\n",
        "            continue"
      ],
      "execution_count": null,
      "outputs": []
    },
    {
      "cell_type": "code",
      "metadata": {
        "id": "ETF-oVdCs34F"
      },
      "source": [
        "label_dummies = pd.get_dummies(labels)\n",
        "\n",
        "labels =  label_dummies.values.argmax(1)"
      ],
      "execution_count": null,
      "outputs": []
    },
    {
      "cell_type": "code",
      "metadata": {
        "id": "llwomqQSujLO"
      },
      "source": [
        "labels=np.asarray(labels).astype(\"float32\")\n",
        "data = np.asarray(data_images).astype(\"float32\")/255.0"
      ],
      "execution_count": null,
      "outputs": []
    },
    {
      "cell_type": "code",
      "metadata": {
        "colab": {
          "base_uri": "https://localhost:8080/"
        },
        "id": "mYa2X9P3voAW",
        "outputId": "251c91f6-c65a-4dd2-f4ba-a0153acb268d"
      },
      "source": [
        "data.shape, labels.shape"
      ],
      "execution_count": null,
      "outputs": [
        {
          "output_type": "execute_result",
          "data": {
            "text/plain": [
              "((4323, 28, 28, 3), (4323,))"
            ]
          },
          "metadata": {
            "tags": []
          },
          "execution_count": 13
        }
      ]
    },
    {
      "cell_type": "markdown",
      "metadata": {
        "id": "Y9H0B5rAbPlS"
      },
      "source": [
        "- Split into 60 and 40 ratio.\n",
        "- Encode labels."
      ]
    },
    {
      "cell_type": "code",
      "metadata": {
        "id": "2L2cZO4bvssB"
      },
      "source": [
        "import sklearn\n",
        "from sklearn.model_selection import train_test_split\n",
        "X_train,X_test,y_train,y_test=train_test_split(data,labels,test_size=.40,random_state=1)"
      ],
      "execution_count": null,
      "outputs": []
    },
    {
      "cell_type": "markdown",
      "metadata": {
        "id": "VmI3sZPlbS18"
      },
      "source": [
        "- Create Model"
      ]
    },
    {
      "cell_type": "code",
      "metadata": {
        "id": "xpwPaBHewJ7t"
      },
      "source": [
        "from keras.models import Sequential\n",
        "from keras.layers import Conv2D,MaxPool2D,Flatten,Dense\n",
        "\n",
        "network =Sequential()\n",
        "network.add(Conv2D(8, (1,1),input_shape=(28, 28, 3),activation='relu'))\n",
        "network.add(MaxPool2D(pool_size=(1,1)))\n",
        "network.add(Conv2D(16, (1,1),activation='relu'))\n",
        "network.add(MaxPool2D(pool_size=(2,2)))\n",
        "network.add(Flatten())\n",
        "network.add(Dense(128,activation='relu'))\n",
        "network.add(Dense(10,activation=\"softmax\"))"
      ],
      "execution_count": null,
      "outputs": []
    },
    {
      "cell_type": "code",
      "metadata": {
        "colab": {
          "base_uri": "https://localhost:8080/"
        },
        "id": "QRW4Y9R4wRwU",
        "outputId": "99b81055-6941-497c-a761-601fbaa63837"
      },
      "source": [
        "network.summary()"
      ],
      "execution_count": null,
      "outputs": [
        {
          "output_type": "stream",
          "text": [
            "Model: \"sequential\"\n",
            "_________________________________________________________________\n",
            "Layer (type)                 Output Shape              Param #   \n",
            "=================================================================\n",
            "conv2d (Conv2D)              (None, 28, 28, 8)         32        \n",
            "_________________________________________________________________\n",
            "max_pooling2d (MaxPooling2D) (None, 28, 28, 8)         0         \n",
            "_________________________________________________________________\n",
            "conv2d_1 (Conv2D)            (None, 28, 28, 16)        144       \n",
            "_________________________________________________________________\n",
            "max_pooling2d_1 (MaxPooling2 (None, 14, 14, 16)        0         \n",
            "_________________________________________________________________\n",
            "flatten (Flatten)            (None, 3136)              0         \n",
            "_________________________________________________________________\n",
            "dense (Dense)                (None, 128)               401536    \n",
            "_________________________________________________________________\n",
            "dense_1 (Dense)              (None, 10)                1290      \n",
            "=================================================================\n",
            "Total params: 403,002\n",
            "Trainable params: 403,002\n",
            "Non-trainable params: 0\n",
            "_________________________________________________________________\n"
          ],
          "name": "stdout"
        }
      ]
    },
    {
      "cell_type": "markdown",
      "metadata": {
        "id": "wJgqLt26bWRs"
      },
      "source": [
        "- Compilation Step (Note : Its a Multiclass Classification problem , select loss , metrics according to it)\n",
        "- Train the Model. (If the model gets overfit tune your model by changing the units , No. of layers , epochs , add dropout layer or add Regularizer according to the need)"
      ]
    },
    {
      "cell_type": "code",
      "metadata": {
        "colab": {
          "base_uri": "https://localhost:8080/"
        },
        "id": "P9KikTC7wWJ2",
        "outputId": "d8222ca9-14d4-4a1d-c1a2-8f186c395102"
      },
      "source": [
        "network.compile(loss='sparse_categorical_crossentropy',optimizer='adam',metrics=['accuracy'])\n",
        "batch_size = 1\n",
        "epochs = 20\n",
        "history=network.fit(X_train, y_train,batch_size=batch_size,epochs=epochs)"
      ],
      "execution_count": null,
      "outputs": [
        {
          "output_type": "stream",
          "text": [
            "Epoch 1/20\n",
            "2593/2593 [==============================] - 37s 3ms/step - loss: 1.3947 - accuracy: 0.3808\n",
            "Epoch 2/20\n",
            "2593/2593 [==============================] - 8s 3ms/step - loss: 1.0111 - accuracy: 0.6100\n",
            "Epoch 3/20\n",
            "2593/2593 [==============================] - 8s 3ms/step - loss: 0.8681 - accuracy: 0.6594\n",
            "Epoch 4/20\n",
            "2593/2593 [==============================] - 8s 3ms/step - loss: 0.7536 - accuracy: 0.7181\n",
            "Epoch 5/20\n",
            "2593/2593 [==============================] - 8s 3ms/step - loss: 0.6317 - accuracy: 0.7524\n",
            "Epoch 6/20\n",
            "2593/2593 [==============================] - 8s 3ms/step - loss: 0.5340 - accuracy: 0.8057\n",
            "Epoch 7/20\n",
            "2593/2593 [==============================] - 8s 3ms/step - loss: 0.4208 - accuracy: 0.8460\n",
            "Epoch 8/20\n",
            "2593/2593 [==============================] - 8s 3ms/step - loss: 0.3377 - accuracy: 0.8833\n",
            "Epoch 9/20\n",
            "2593/2593 [==============================] - 8s 3ms/step - loss: 0.2539 - accuracy: 0.9059\n",
            "Epoch 10/20\n",
            "2593/2593 [==============================] - 8s 3ms/step - loss: 0.2093 - accuracy: 0.9318\n",
            "Epoch 11/20\n",
            "2593/2593 [==============================] - 8s 3ms/step - loss: 0.1735 - accuracy: 0.9336\n",
            "Epoch 12/20\n",
            "2593/2593 [==============================] - 8s 3ms/step - loss: 0.1245 - accuracy: 0.9622\n",
            "Epoch 13/20\n",
            "2593/2593 [==============================] - 8s 3ms/step - loss: 0.1379 - accuracy: 0.9564\n",
            "Epoch 14/20\n",
            "2593/2593 [==============================] - 8s 3ms/step - loss: 0.1105 - accuracy: 0.9662\n",
            "Epoch 15/20\n",
            "2593/2593 [==============================] - 8s 3ms/step - loss: 0.0930 - accuracy: 0.9724\n",
            "Epoch 16/20\n",
            "2593/2593 [==============================] - 8s 3ms/step - loss: 0.0795 - accuracy: 0.9704\n",
            "Epoch 17/20\n",
            "2593/2593 [==============================] - 8s 3ms/step - loss: 0.0757 - accuracy: 0.9726\n",
            "Epoch 18/20\n",
            "2593/2593 [==============================] - 8s 3ms/step - loss: 0.0902 - accuracy: 0.9764\n",
            "Epoch 19/20\n",
            "2593/2593 [==============================] - 8s 3ms/step - loss: 0.0599 - accuracy: 0.9820\n",
            "Epoch 20/20\n",
            "2593/2593 [==============================] - 8s 3ms/step - loss: 0.0867 - accuracy: 0.9769\n"
          ],
          "name": "stdout"
        }
      ]
    },
    {
      "cell_type": "code",
      "metadata": {
        "colab": {
          "base_uri": "https://localhost:8080/",
          "height": 295
        },
        "id": "_KPKdcy8wpOB",
        "outputId": "9ece35a4-6b89-4d1e-a974-6efafd7d1b68"
      },
      "source": [
        "import matplotlib.pyplot as plt\n",
        "history_dict = history.history\n",
        "loss_values = history_dict['loss']\n",
        "val_accuracy = history_dict['accuracy']\n",
        "epochs = range(1, len(history_dict['accuracy']) + 1)\n",
        "plt.plot(epochs, loss_values, 'r', label='loss')\n",
        "plt.plot(epochs, val_accuracy, 'b', label='accuracy')\n",
        "plt.title('loss and accuracy')\n",
        "plt.xlabel('Epochs')\n",
        "plt.ylabel('Loss')\n",
        "plt.legend()\n",
        "plt.grid()\n",
        "plt.show()"
      ],
      "execution_count": null,
      "outputs": [
        {
          "output_type": "display_data",
          "data": {
            "image/png": "[encoded data removed]",
            "text/plain": [
              "<Figure size 432x288 with 1 Axes>"
            ]
          },
          "metadata": {
            "tags": [],
            "needs_background": "light"
          }
        }
      ]
    },
    {
      "cell_type": "code",
      "metadata": {
        "colab": {
          "base_uri": "https://localhost:8080/"
        },
        "id": "nsMMN9szxazj",
        "outputId": "cf6eebb0-51a8-4dc8-f6c7-f4312985be3d"
      },
      "source": [
        "network.evaluate(X_test,y_test)"
      ],
      "execution_count": null,
      "outputs": [
        {
          "output_type": "stream",
          "text": [
            "55/55 [==============================] - 0s 4ms/step - loss: 2.9582 - accuracy: 0.5908\n"
          ],
          "name": "stdout"
        },
        {
          "output_type": "execute_result",
          "data": {
            "text/plain": [
              "[2.9581832885742188, 0.5907514691352844]"
            ]
          },
          "metadata": {
            "tags": []
          },
          "execution_count": 19
        }
      ]
    },
    {
      "cell_type": "markdown",
      "metadata": {
        "id": "W8C36kmKbbGk"
      },
      "source": [
        "- Prediction should be > 85%"
      ]
    },
    {
      "cell_type": "code",
      "metadata": {
        "colab": {
          "base_uri": "https://localhost:8080/"
        },
        "id": "E3EGVMyXxf5i",
        "outputId": "6b9c85d2-5975-47d3-f4d9-1a7d41e793fe"
      },
      "source": [
        "pred = network.predict_classes(X_test[:10])\n",
        "for i in range(len(pred)):\n",
        "    print(pred[i],'==>',y_test[i])"
      ],
      "execution_count": null,
      "outputs": [
        {
          "output_type": "stream",
          "text": [
            "1 ==> 4.0\n",
            "1 ==> 1.0\n",
            "3 ==> 3.0\n",
            "4 ==> 1.0\n",
            "2 ==> 2.0\n",
            "0 ==> 2.0\n",
            "3 ==> 2.0\n",
            "3 ==> 4.0\n",
            "3 ==> 2.0\n",
            "0 ==> 2.0\n"
          ],
          "name": "stdout"
        },
        {
          "output_type": "stream",
          "text": [
            "/usr/local/lib/python3.7/dist-packages/tensorflow/python/keras/engine/sequential.py:450: UserWarning: `model.predict_classes()` is deprecated and will be removed after 2021-01-01. Please use instead:* `np.argmax(model.predict(x), axis=-1)`,   if your model does multi-class classification   (e.g. if it uses a `softmax` last-layer activation).* `(model.predict(x) > 0.5).astype(\"int32\")`,   if your model does binary classification   (e.g. if it uses a `sigmoid` last-layer activation).\n",
            "  warnings.warn('`model.predict_classes()` is deprecated and '\n"
          ],
          "name": "stderr"
        }
      ]
    },
    {
      "cell_type": "markdown",
      "metadata": {
        "id": "-u5mTyQubgYI"
      },
      "source": [
        "- Evaluation Step\n",
        "- Prediction"
      ]
    },
    {
      "cell_type": "code",
      "metadata": {
        "colab": {
          "base_uri": "https://localhost:8080/",
          "height": 334
        },
        "id": "k07-jPrXxiLv",
        "outputId": "b29a067c-2b89-44ab-c01f-50ef2f34f998"
      },
      "source": [
        "plt.figure(figsize=(20,5))\n",
        "plt.subplot(1, 2, 1 )\n",
        "plt.hist(y_test[:10])\n",
        "plt.xlabel('original target value')\n",
        "plt.ylabel('count')\n",
        "plt.subplot(1, 2, 2)\n",
        "plt.hist(pred)\n",
        "plt.xlabel('aggregated target value')\n",
        "plt.ylabel('count')\n",
        "plt.show()"
      ],
      "execution_count": null,
      "outputs": [
        {
          "output_type": "display_data",
          "data": {
            "image/png": "[encoded data removed]",
            "text/plain": [
              "<Figure size 1440x360 with 2 Axes>"
            ]
          },
          "metadata": {
            "tags": [],
            "needs_background": "light"
          }
        }
      ]
    },
    {
      "cell_type": "code",
      "metadata": {
        "id": "xUg-NPvQxsU3"
      },
      "source": [
        ""
      ],
      "execution_count": null,
      "outputs": []
    }
  ]
}